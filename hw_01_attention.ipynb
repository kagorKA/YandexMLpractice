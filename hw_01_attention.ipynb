{
  "cells": [
    {
      "cell_type": "markdown",
      "metadata": {
        "id": "jNtLJlW4v5VF"
      },
      "source": [
        "# Домашнее задание №1\n",
        "## Часть 1: Механизм внимания (Attention)\n",
        "##### Автор: [Радослав Нейчев](https://www.linkedin.com/in/radoslav-neychev/), https://t.me/s/rads_ai\n",
        "\n",
        "В данном задании вам предстоит детально рассмотреть механизм Attention (и реализовать несколько его вариантов)."
      ]
    },
    {
      "cell_type": "code",
      "execution_count": null,
      "metadata": {
        "id": "KzvkbMOJWLOY"
      },
      "outputs": [],
      "source": [
        "import os\n",
        "import random\n",
        "\n",
        "import numpy as np\n",
        "import pandas as pd\n",
        "\n",
        "from sklearn.metrics import roc_auc_score, roc_curve, accuracy_score\n",
        "\n",
        "import torch\n",
        "import torch.nn as nn\n",
        "import torch.nn.functional as F\n",
        "\n",
        "import matplotlib.pyplot as plt\n",
        "from IPython.display import clear_output\n",
        "%matplotlib inline"
      ]
    },
    {
      "cell_type": "markdown",
      "metadata": {
        "id": "yoYa0SSBWLOa"
      },
      "source": [
        "### Реализация Attention\n",
        "\n",
        "В данной задаче вам предстоит реализовать механизм Attention, в частности несколько способов подсчета attention scores. Конечно, в популярных фреймворках данный механизм уже реализован, но для лучшего понимания вам предстаит реализовать его с помощью `numpy`.\n",
        "\n",
        "Ваше задание в данной задаче: реализовать `additive` (аддитивный) и `multiplicative` (мультипликативный) варианты Attention. Для вашего удобства (и для примера) `dot product` attention (основанный на скалярном произведении) уже реализован.\n",
        "\n",
        "Детальное описание данных типов Attention доступно в лекционных слайдах."
      ]
    },
    {
      "cell_type": "code",
      "execution_count": null,
      "metadata": {
        "id": "W4AdVBlUWLOa",
        "colab": {
          "base_uri": "https://localhost:8080/",
          "height": 486
        },
        "outputId": "c38197b3-586b-4016-acfa-a034d167eaef"
      },
      "outputs": [
        {
          "output_type": "execute_result",
          "data": {
            "text/plain": [
              "Text(0.5, 1.0, 'Decoder state')"
            ]
          },
          "metadata": {},
          "execution_count": 3
        },
        {
          "output_type": "display_data",
          "data": {
            "text/plain": [
              "<Figure size 200x500 with 2 Axes>"
            ],
            "image/png": "[encoded data removed]"
          },
          "metadata": {}
        }
      ],
      "source": [
        "decoder_hidden_state = np.array([7, 11, 4]).astype(float)[:, None]\n",
        "\n",
        "plt.figure(figsize=(2, 5))\n",
        "plt.pcolormesh(decoder_hidden_state)\n",
        "plt.colorbar()\n",
        "plt.title(\"Decoder state\")"
      ]
    },
    {
      "cell_type": "markdown",
      "metadata": {
        "id": "aBSzFknBWLOa"
      },
      "source": [
        "#### Dot product attention (пример реализации)\n",
        "Рассмотрим единственное состояние энкодера – вектор с размерностью `(n_hidden, 1)`, где `n_hidden = 3`:"
      ]
    },
    {
      "cell_type": "code",
      "execution_count": null,
      "metadata": {
        "id": "5icp7akIWLOa",
        "colab": {
          "base_uri": "https://localhost:8080/",
          "height": 486
        },
        "outputId": "12e7ef09-b7dd-4d0a-af45-07864b2577b8"
      },
      "outputs": [
        {
          "output_type": "execute_result",
          "data": {
            "text/plain": [
              "Text(0.5, 1.0, 'Encoder state')"
            ]
          },
          "metadata": {},
          "execution_count": 4
        },
        {
          "output_type": "display_data",
          "data": {
            "text/plain": [
              "<Figure size 200x500 with 2 Axes>"
            ],
            "image/png": "[encoded data removed]"
          },
          "metadata": {}
        }
      ],
      "source": [
        "single_encoder_hidden_state = np.array([1, 5, 11]).astype(float)[:, None]\n",
        "\n",
        "plt.figure(figsize=(2, 5))\n",
        "plt.pcolormesh(single_encoder_hidden_state)\n",
        "plt.colorbar()\n",
        "plt.title(\"Encoder state\")"
      ]
    },
    {
      "cell_type": "markdown",
      "metadata": {
        "id": "WphleTvUWLOb"
      },
      "source": [
        "Attention score между данными состояниями энкодера и декодера вычисляются просто как скалярное произведение:"
      ]
    },
    {
      "cell_type": "code",
      "execution_count": null,
      "metadata": {
        "id": "lEhDbTZWWLOb",
        "colab": {
          "base_uri": "https://localhost:8080/"
        },
        "outputId": "1306073e-d193-4c10-c92c-177bdd952262"
      },
      "outputs": [
        {
          "output_type": "execute_result",
          "data": {
            "text/plain": [
              "array([[106.]])"
            ]
          },
          "metadata": {},
          "execution_count": 5
        }
      ],
      "source": [
        "np.dot(decoder_hidden_state.T, single_encoder_hidden_state)"
      ]
    },
    {
      "cell_type": "markdown",
      "metadata": {
        "id": "ztRxnP_6WLOb"
      },
      "source": [
        "В общем случае состояний энкодера, конечно, несколько. Attention scores вычисляются с каждым из состояний энкодера:"
      ]
    },
    {
      "cell_type": "code",
      "execution_count": null,
      "metadata": {
        "id": "jNvqlgA8WLOb",
        "colab": {
          "base_uri": "https://localhost:8080/"
        },
        "outputId": "448362f4-f4fb-485b-d77c-688faf646bc2"
      },
      "outputs": [
        {
          "output_type": "execute_result",
          "data": {
            "text/plain": [
              "array([[ 1.,  7.,  8., -9.],\n",
              "       [ 5.,  4., 12.,  0.],\n",
              "       [11.,  1.,  2.,  1.]])"
            ]
          },
          "metadata": {},
          "execution_count": 6
        }
      ],
      "source": [
        "encoder_hidden_states = (\n",
        "    np.array([[1, 5, 11], [7, 4, 1], [8, 12, 2], [-9, 0, 1]]).astype(float).T\n",
        ")\n",
        "\n",
        "encoder_hidden_states"
      ]
    },
    {
      "cell_type": "markdown",
      "metadata": {
        "id": "tkKXaYbhWLOb"
      },
      "source": [
        "Тогда для подсчета скалярных произведений между единственным состоянием декодера и всеми состояниями энкодера можно воспользоваться следующей функцией (которая по факту представляет собой просто матричное умножение и приведение типов):"
      ]
    },
    {
      "cell_type": "code",
      "execution_count": null,
      "metadata": {
        "id": "OcMlUd1aWLOb"
      },
      "outputs": [],
      "source": [
        "def dot_product_attention_score(decoder_hidden_state, encoder_hidden_states):\n",
        "    \"\"\"\n",
        "    decoder_hidden_state: np.array of shape (n_features, 1)\n",
        "    encoder_hidden_states: np.array of shape (n_features, n_states)\n",
        "\n",
        "    return: np.array of shape (1, n_states)\n",
        "        Array with dot product attention scores\n",
        "    \"\"\"\n",
        "    attention_scores = np.dot(decoder_hidden_state.T, encoder_hidden_states)\n",
        "    return attention_scores"
      ]
    },
    {
      "cell_type": "code",
      "execution_count": null,
      "metadata": {
        "id": "-WkRwfBTWLOc",
        "colab": {
          "base_uri": "https://localhost:8080/"
        },
        "outputId": "59357249-1a9d-42fa-b88d-bc41357834bf"
      },
      "outputs": [
        {
          "output_type": "execute_result",
          "data": {
            "text/plain": [
              "array([[106.,  97., 196., -59.]])"
            ]
          },
          "metadata": {},
          "execution_count": 8
        }
      ],
      "source": [
        "dot_product_attention_score(decoder_hidden_state, encoder_hidden_states)"
      ]
    },
    {
      "cell_type": "markdown",
      "metadata": {
        "id": "0noaX_iPWLOc"
      },
      "source": [
        "Для подсчета \"весов\" нам необходим Softmax:"
      ]
    },
    {
      "cell_type": "code",
      "execution_count": null,
      "metadata": {
        "id": "zafrHQTLWLOc"
      },
      "outputs": [],
      "source": [
        "def softmax(vector):\n",
        "    \"\"\"\n",
        "    vector: np.array of shape (n, m)\n",
        "\n",
        "    return: np.array of shape (n, m)\n",
        "        Matrix where softmax is computed for every row independently\n",
        "    \"\"\"\n",
        "    nice_vector = vector - vector.max()\n",
        "    exp_vector = np.exp(nice_vector)\n",
        "    exp_denominator = np.sum(exp_vector, axis=1)[:, np.newaxis]\n",
        "    softmax_ = exp_vector / exp_denominator\n",
        "    return softmax_"
      ]
    },
    {
      "cell_type": "code",
      "execution_count": null,
      "metadata": {
        "id": "zsI6virlWLOc",
        "colab": {
          "base_uri": "https://localhost:8080/"
        },
        "outputId": "7e1fe015-953f-4612-97e4-e3d9be18770c"
      },
      "outputs": [
        {
          "output_type": "execute_result",
          "data": {
            "text/plain": [
              "array([[8.19401262e-040, 1.01122149e-043, 1.00000000e+000,\n",
              "        1.79848622e-111]])"
            ]
          },
          "metadata": {},
          "execution_count": 10
        }
      ],
      "source": [
        "weights_vector = softmax(\n",
        "    dot_product_attention_score(decoder_hidden_state, encoder_hidden_states)\n",
        ")\n",
        "\n",
        "weights_vector"
      ]
    },
    {
      "cell_type": "markdown",
      "metadata": {
        "id": "nuc6VNdeWLOc"
      },
      "source": [
        "Наконец, воспользуемся данными весами и вычислим итоговый вектор, как и описано для dot product attention."
      ]
    },
    {
      "cell_type": "code",
      "execution_count": null,
      "metadata": {
        "id": "5S1WIvuGWLOc",
        "colab": {
          "base_uri": "https://localhost:8080/",
          "height": 522
        },
        "outputId": "b59524f1-e010-4ca0-c97f-804755cc136c"
      },
      "outputs": [
        {
          "output_type": "stream",
          "name": "stdout",
          "text": [
            "[[ 8.]\n",
            " [12.]\n",
            " [ 2.]]\n"
          ]
        },
        {
          "output_type": "execute_result",
          "data": {
            "text/plain": [
              "<matplotlib.colorbar.Colorbar at 0x781f38d6ed20>"
            ]
          },
          "metadata": {},
          "execution_count": 11
        },
        {
          "output_type": "display_data",
          "data": {
            "text/plain": [
              "<Figure size 200x500 with 2 Axes>"
            ],
            "image/png": "[encoded data removed]"
          },
          "metadata": {}
        }
      ],
      "source": [
        "attention_vector = weights_vector.dot(encoder_hidden_states.T).T\n",
        "print(attention_vector)\n",
        "\n",
        "plt.figure(figsize=(2, 5))\n",
        "plt.pcolormesh(attention_vector, cmap=\"spring\")\n",
        "plt.colorbar()"
      ]
    },
    {
      "cell_type": "markdown",
      "metadata": {
        "id": "lKkIVEClWLOd"
      },
      "source": [
        "Данный вектор аккумулирует в себе информацию из всех состояний энкодера, взвешенную на основе близости к заданному состоянию декодера.\n",
        "\n",
        "Реализуем все вышеописанные преобразования в единой функции:"
      ]
    },
    {
      "cell_type": "code",
      "execution_count": null,
      "metadata": {
        "id": "MX8q3ktpWLOd"
      },
      "outputs": [],
      "source": [
        "def dot_product_attention(decoder_hidden_state, encoder_hidden_states):\n",
        "    \"\"\"\n",
        "    decoder_hidden_state: np.array of shape (n_features, 1)\n",
        "    encoder_hidden_states: np.array of shape (n_features, n_states)\n",
        "\n",
        "    return: np.array of shape (n_features, 1)\n",
        "        Final attention vector\n",
        "    \"\"\"\n",
        "    softmax_vector = softmax(\n",
        "        dot_product_attention_score(decoder_hidden_state, encoder_hidden_states)\n",
        "    )\n",
        "    attention_vector = softmax_vector.dot(encoder_hidden_states.T).T\n",
        "    return attention_vector"
      ]
    },
    {
      "cell_type": "code",
      "execution_count": null,
      "metadata": {
        "id": "_m1Idc0bWLOd"
      },
      "outputs": [],
      "source": [
        "assert (\n",
        "    attention_vector\n",
        "    == dot_product_attention(decoder_hidden_state, encoder_hidden_states)\n",
        ").all()"
      ]
    },
    {
      "cell_type": "markdown",
      "metadata": {
        "id": "D153kfcqWLOd"
      },
      "source": [
        "#### Multiplicative attention\n",
        "Ваша текущая задача: реализовать multiplicative attention.\n",
        "$$ e_i = \\mathbf{s}^TW_{mult}\\mathbf{h}_i $$\n",
        "\n",
        "Матрица весов `W_mult` задана ниже.\n",
        "Стоит заметить, что multiplicative attention позволяет работать с состояниями энкодера и декодера различных размерностей, поэтому состояния энкодера будут обновлены:"
      ]
    },
    {
      "cell_type": "code",
      "execution_count": null,
      "metadata": {
        "id": "kIBqyQH0WLOd"
      },
      "outputs": [],
      "source": [
        "decoder_hidden_state = np.array([7, 11, 4]).astype(float)[:, None]\n",
        "\n",
        "encoder_hidden_states = (\n",
        "    np.array([[1, 5, 11, 4, -4], [7, 4, 1, 2, 2], [8, 12, 2, 11, 5], [-9, 0, 1, 8, 12]])\n",
        "    .astype(float)\n",
        "    .T\n",
        ")\n",
        "\n",
        "W_mult = np.array(\n",
        "    [\n",
        "        [-0.78, -0.97, -1.09, -1.79, 0.24],\n",
        "        [0.04, -0.27, -0.98, -0.49, 0.52],\n",
        "        [1.08, 0.91, -0.99, 2.04, -0.15],\n",
        "    ]\n",
        ")"
      ]
    },
    {
      "cell_type": "code",
      "execution_count": null,
      "metadata": {
        "id": "UktAjsjUWLOd",
        "colab": {
          "base_uri": "https://localhost:8080/"
        },
        "outputId": "c262d56b-4661-483e-a5df-194a049d77fb"
      },
      "outputs": [
        {
          "output_type": "execute_result",
          "data": {
            "text/plain": [
              "array([[ 1.,  7.,  8., -9.],\n",
              "       [ 5.,  4., 12.,  0.],\n",
              "       [11.,  1.,  2.,  1.],\n",
              "       [ 4.,  2., 11.,  8.],\n",
              "       [-4.,  2.,  5., 12.]])"
            ]
          },
          "metadata": {},
          "execution_count": 56
        }
      ],
      "source": [
        "encoder_hidden_states"
      ]
    },
    {
      "cell_type": "markdown",
      "source": [
        "Функция для вычисления оценок внимания"
      ],
      "metadata": {
        "id": "KzVBJ1plCtvT"
      }
    },
    {
      "cell_type": "code",
      "source": [
        "def multiplicative_attention_score(decoder_hidden_state, W_mult, encoder_hidden_states):\n",
        "    \"\"\"\n",
        "    decoder_hidden_state: np.array of shape (n_features, 1)\n",
        "    W_mult: weights\n",
        "    encoder_hidden_states: np.array of shape (n_features, n_states), may be different from decoder_hidden_state\n",
        "\n",
        "    return: np.array of shape (1, n_states)\n",
        "        Array with dot product attention scores\n",
        "    \"\"\"\n",
        "    attention_scores = decoder_hidden_state.T @ W_mult @ encoder_hidden_states # can't use np.dot, so we'll use @ to multiply 3 args\n",
        "    return attention_scores"
      ],
      "metadata": {
        "id": "orabcefoAdk2"
      },
      "execution_count": null,
      "outputs": []
    },
    {
      "cell_type": "code",
      "source": [
        "multiplicative_attention_score(decoder_hidden_state, W_mult, encoder_hidden_states_complex)"
      ],
      "metadata": {
        "colab": {
          "base_uri": "https://localhost:8080/"
        },
        "id": "dkSnvytVBmPF",
        "outputId": "9b972d6d-c52f-4ebf-fc06-f0254349a58f"
      },
      "execution_count": null,
      "outputs": [
        {
          "output_type": "execute_result",
          "data": {
            "text/plain": [
              "array([[-343.61,  -57.67, -197.14,  -12.55]])"
            ]
          },
          "metadata": {},
          "execution_count": 20
        }
      ]
    },
    {
      "cell_type": "markdown",
      "source": [
        "Дальше опять же пропускаем через софтмакс"
      ],
      "metadata": {
        "id": "cNfO1VseC0pv"
      }
    },
    {
      "cell_type": "code",
      "source": [
        "def softmax(vector):\n",
        "    \"\"\"\n",
        "    vector: np.array of shape (n, m)\n",
        "\n",
        "    return: np.array of shape (n, m)\n",
        "        Matrix where softmax is computed for every row independently\n",
        "    \"\"\"\n",
        "    nice_vector = vector - vector.max()\n",
        "    exp_vector = np.exp(nice_vector)\n",
        "    exp_denominator = np.sum(exp_vector, axis=1)[:, np.newaxis]\n",
        "    softmax_ = exp_vector / exp_denominator\n",
        "    return softmax_"
      ],
      "metadata": {
        "id": "cujhqjRbC3lF"
      },
      "execution_count": null,
      "outputs": []
    },
    {
      "cell_type": "code",
      "source": [
        "weights_vector = softmax(\n",
        "    multiplicative_attention_score(decoder_hidden_state, W_mult, encoder_hidden_states)\n",
        ")\n",
        "\n",
        "weights_vector"
      ],
      "metadata": {
        "colab": {
          "base_uri": "https://localhost:8080/"
        },
        "id": "A3AACvHvC8S3",
        "outputId": "08253be7-0ebf-41bc-d5a7-f5327bfeb0a4"
      },
      "execution_count": null,
      "outputs": [
        {
          "output_type": "execute_result",
          "data": {
            "text/plain": [
              "array([[1.66904798e-144, 2.53882623e-020, 6.81681622e-081,\n",
              "        1.00000000e+000]])"
            ]
          },
          "metadata": {},
          "execution_count": 22
        }
      ]
    },
    {
      "cell_type": "markdown",
      "source": [
        "Вычисляем итоговый вектор"
      ],
      "metadata": {
        "id": "PZ5QgdClDIWV"
      }
    },
    {
      "cell_type": "code",
      "source": [
        "attention_vector = weights_vector.dot(encoder_hidden_states.T).T\n",
        "print(attention_vector)\n",
        "\n",
        "plt.figure(figsize=(2, 5))\n",
        "plt.pcolormesh(attention_vector, cmap=\"spring\")\n",
        "plt.colorbar()"
      ],
      "metadata": {
        "colab": {
          "base_uri": "https://localhost:8080/",
          "height": 558
        },
        "id": "NccBWEOuDL2N",
        "outputId": "722e872f-29f6-4607-9655-e85e9415f367"
      },
      "execution_count": null,
      "outputs": [
        {
          "output_type": "stream",
          "name": "stdout",
          "text": [
            "[[-9.00000000e+00]\n",
            " [ 1.01553049e-19]\n",
            " [ 1.00000000e+00]\n",
            " [ 8.00000000e+00]\n",
            " [ 1.20000000e+01]]\n"
          ]
        },
        {
          "output_type": "execute_result",
          "data": {
            "text/plain": [
              "<matplotlib.colorbar.Colorbar at 0x781f36b3c350>"
            ]
          },
          "metadata": {},
          "execution_count": 24
        },
        {
          "output_type": "display_data",
          "data": {
            "text/plain": [
              "<Figure size 200x500 with 2 Axes>"
            ],
            "image/png": "[encoded data removed]"
          },
          "metadata": {}
        }
      ]
    },
    {
      "cell_type": "markdown",
      "metadata": {
        "id": "zG_HZsVYWLOd"
      },
      "source": [
        "Реализуйте подсчет attention согласно формулам и реализуйте итоговую функцию `multiplicative_attention`:"
      ]
    },
    {
      "cell_type": "code",
      "execution_count": null,
      "metadata": {
        "id": "ItZIOOehWLOd"
      },
      "outputs": [],
      "source": [
        "def multiplicative_attention(decoder_hidden_state, encoder_hidden_states, W_mult):\n",
        "    '''\n",
        "    decoder_hidden_state: np.array of shape (n_features_dec, 1)\n",
        "    encoder_hidden_states: np.array of shape (n_features_enc, n_states)\n",
        "    W_mult: np.array of shape (n_features_dec, n_features_enc)\n",
        "\n",
        "    return: np.array of shape (n_features_enc, 1)\n",
        "        Final attention vector\n",
        "    '''\n",
        "    attention_scores = decoder_hidden_state.T @ W_mult @ encoder_hidden_states\n",
        "    softmax_vector = softmax(attention_scores)\n",
        "    attention_vector = softmax_vector.dot(encoder_hidden_states.T).T\n",
        "\n",
        "    return attention_vector"
      ]
    },
    {
      "cell_type": "markdown",
      "source": [
        "Проверяем"
      ],
      "metadata": {
        "id": "AUWd0EjmEdi9"
      }
    },
    {
      "cell_type": "code",
      "source": [
        "assert (\n",
        "    attention_vector\n",
        "    == multiplicative_attention(decoder_hidden_state, encoder_hidden_states, W_mult)\n",
        ").all()"
      ],
      "metadata": {
        "colab": {
          "base_uri": "https://localhost:8080/",
          "height": 198
        },
        "id": "9_FwhgPKDvq4",
        "outputId": "3ebfb1c2-c7a3-40ae-9d53-28fe2fab1840"
      },
      "execution_count": null,
      "outputs": [
        {
          "output_type": "error",
          "ename": "AssertionError",
          "evalue": "",
          "traceback": [
            "\u001b[0;31m---------------------------------------------------------------------------\u001b[0m",
            "\u001b[0;31mAssertionError\u001b[0m                            Traceback (most recent call last)",
            "\u001b[0;32m/tmp/ipython-input-1424343575.py\u001b[0m in \u001b[0;36m<cell line: 0>\u001b[0;34m()\u001b[0m\n\u001b[0;32m----> 1\u001b[0;31m assert (\n\u001b[0m\u001b[1;32m      2\u001b[0m     \u001b[0mattention_vector\u001b[0m\u001b[0;34m\u001b[0m\u001b[0;34m\u001b[0m\u001b[0m\n\u001b[1;32m      3\u001b[0m     \u001b[0;34m==\u001b[0m \u001b[0mmultiplicative_attention\u001b[0m\u001b[0;34m(\u001b[0m\u001b[0mdecoder_hidden_state\u001b[0m\u001b[0;34m,\u001b[0m \u001b[0mencoder_hidden_states\u001b[0m\u001b[0;34m,\u001b[0m \u001b[0mW_mult\u001b[0m\u001b[0;34m)\u001b[0m\u001b[0;34m\u001b[0m\u001b[0;34m\u001b[0m\u001b[0m\n\u001b[1;32m      4\u001b[0m ).all()\n",
            "\u001b[0;31mAssertionError\u001b[0m: "
          ]
        }
      ]
    },
    {
      "cell_type": "markdown",
      "metadata": {
        "id": "rEqtjLtDWLOe"
      },
      "source": [
        "#### Additive attention\n",
        "Теперь вам предстоит реализовать additive attention.\n",
        "\n",
        "$$ e_i = \\mathbf{v}^T \\text{tanh} (W_{add-enc} \\mathbf{h}_i + W_{add-dec} \\mathbf{s}) $$\n",
        "\n",
        "Матрицы весов `W_add_enc` и `W_add_dec` доступны ниже, как и вектор весов `v_add`. Для вычисления активации можно воспользоваться `np.tanh`."
      ]
    },
    {
      "cell_type": "code",
      "execution_count": null,
      "metadata": {
        "id": "j94VYOVeWLOe"
      },
      "outputs": [],
      "source": [
        "v_add = np.array([[-0.35, -0.58, 0.07, 1.39, -0.79, -1.78, -0.35]]).T\n",
        "\n",
        "W_add_enc = np.array(\n",
        "    [\n",
        "        [-1.34, -0.1, -0.38, 0.12, -0.34],\n",
        "        [-1.0, 1.28, 0.49, -0.41, -0.32],\n",
        "        [-0.39, -1.38, 1.26, 1.21, 0.15],\n",
        "        [-0.18, 0.04, 1.36, -1.18, -0.53],\n",
        "        [-0.23, 0.96, 1.02, 0.39, -1.26],\n",
        "        [-1.27, 0.89, -0.85, -0.01, -1.19],\n",
        "        [0.46, -0.12, -0.86, -0.93, -0.4],\n",
        "    ]\n",
        ")\n",
        "\n",
        "W_add_dec = np.array(\n",
        "    [\n",
        "        [-1.62, -0.02, -0.39],\n",
        "        [0.43, 0.61, -0.23],\n",
        "        [-1.5, -0.43, -0.91],\n",
        "        [-0.14, 0.03, 0.05],\n",
        "        [0.85, 0.51, 0.63],\n",
        "        [0.39, -0.42, 1.34],\n",
        "        [-0.47, -0.31, -1.34],\n",
        "    ]\n",
        ")"
      ]
    },
    {
      "cell_type": "code",
      "execution_count": null,
      "metadata": {
        "id": "l5hwEjHMWLOe"
      },
      "outputs": [],
      "source": [
        "decoder_hidden_state = np.array([7, 11, 4]).astype(float)[:, None]\n",
        "encoder_hidden_states = (\n",
        "    np.array([[1, 5, 11, 4, -4], [7, 4, 1, 2, 2], [8, 12, 2, 11, 5], [-9, 0, 1, 8, 12]])\n",
        "    .astype(float)\n",
        "    .T\n",
        ")"
      ]
    },
    {
      "cell_type": "markdown",
      "source": [
        "Вычисляем оценки внимания"
      ],
      "metadata": {
        "id": "2xmoUyIkGNjn"
      }
    },
    {
      "cell_type": "code",
      "source": [
        "def additive_attention_score(decoder_hidden_state, W_add_dec, encoder_hidden_states, W_add_enc, v_add):\n",
        "    \"\"\"\n",
        "    decoder_hidden_state: np.array of shape (n_features, 1)\n",
        "    encoder_hidden_states: np.array of shape (n_features, n_states), may be different from decoder_hidden_state\n",
        "\n",
        "    return: np.array of shape (1, n_states)\n",
        "        Array with dot product attention scores\n",
        "    \"\"\"\n",
        "    matrix_enc = np.dot(W_add_enc, encoder_hidden_states)\n",
        "    matrix_dec = np.dot(W_add_dec, decoder_hidden_state)\n",
        "    tan_scores = np.tanh(matrix_enc + matrix_dec)\n",
        "    attention_scores = np.dot(v_add.T, tan_scores)\n",
        "    return attention_scores"
      ],
      "metadata": {
        "id": "Vh0I2hHEGI9N"
      },
      "execution_count": null,
      "outputs": []
    },
    {
      "cell_type": "markdown",
      "source": [
        "Добавляем софтмакс и вычисляем итоговый вектор"
      ],
      "metadata": {
        "id": "6BkultKEICKt"
      }
    },
    {
      "cell_type": "code",
      "source": [
        "weights_vector = softmax(\n",
        "    additive_attention_score(decoder_hidden_state, W_add_dec, encoder_hidden_states, W_add_enc, v_add)\n",
        ")\n",
        "\n",
        "attention_vector = weights_vector.dot(encoder_hidden_states.T).T\n",
        "print(attention_vector)\n",
        "\n",
        "plt.figure(figsize=(2, 5))\n",
        "plt.pcolormesh(attention_vector, cmap=\"spring\")\n",
        "plt.colorbar()"
      ],
      "metadata": {
        "colab": {
          "base_uri": "https://localhost:8080/",
          "height": 558
        },
        "id": "_1qpv4pqIHBt",
        "outputId": "0a92fce3-28a7-4c64-b86b-5588a9b5e2a9"
      },
      "execution_count": null,
      "outputs": [
        {
          "output_type": "stream",
          "name": "stdout",
          "text": [
            "[[4.64510711]\n",
            " [6.6372749 ]\n",
            " [3.11601386]\n",
            " [6.2104178 ]\n",
            " [3.06285127]]\n"
          ]
        },
        {
          "output_type": "execute_result",
          "data": {
            "text/plain": [
              "<matplotlib.colorbar.Colorbar at 0x781f36c9e3f0>"
            ]
          },
          "metadata": {},
          "execution_count": 40
        },
        {
          "output_type": "display_data",
          "data": {
            "text/plain": [
              "<Figure size 200x500 with 2 Axes>"
            ],
            "image/png": "[encoded data removed]"
          },
          "metadata": {}
        }
      ]
    },
    {
      "cell_type": "markdown",
      "metadata": {
        "id": "eV6JBHioWLOe"
      },
      "source": [
        "Реализуйте подсчет attention согласно формулам и реализуйте итоговую функцию `additive_attention`:"
      ]
    },
    {
      "cell_type": "code",
      "execution_count": null,
      "metadata": {
        "id": "isPS4hSZWLOe"
      },
      "outputs": [],
      "source": [
        "def additive_attention(decoder_hidden_state, encoder_hidden_states, v_add, W_add_enc, W_add_dec):\n",
        "    '''\n",
        "    decoder_hidden_state: np.array of shape (n_features_dec, 1)\n",
        "    encoder_hidden_states: np.array of shape (n_features_enc, n_states)\n",
        "    v_add: np.array of shape (n_features_int, 1)\n",
        "    W_add_enc: np.array of shape (n_features_int, n_features_enc)\n",
        "    W_add_dec: np.array of shape (n_features_int, n_features_dec)\n",
        "\n",
        "    return: np.array of shape (n_features_enc, 1)\n",
        "        Final attention vector\n",
        "    '''\n",
        "    matrix_enc = np.dot(W_add_enc, encoder_hidden_states)\n",
        "    matrix_dec = np.dot(W_add_dec, decoder_hidden_state)\n",
        "    tan_scores = np.tanh(matrix_enc + matrix_dec)\n",
        "    attention_scores = np.dot(v_add.T, tan_scores)\n",
        "    weights_vector = softmax(attention_scores)\n",
        "    attention_vector = weights_vector.dot(encoder_hidden_states.T).T\n",
        "\n",
        "    return attention_vector"
      ]
    },
    {
      "cell_type": "code",
      "source": [
        "assert (\n",
        "    attention_vector\n",
        "    == additive_attention(\n",
        "    decoder_hidden_state, encoder_hidden_states, v_add, W_add_enc, W_add_dec\n",
        ")\n",
        ").all()"
      ],
      "metadata": {
        "id": "u6PYGswIJOfX"
      },
      "execution_count": null,
      "outputs": []
    },
    {
      "cell_type": "markdown",
      "metadata": {
        "id": "dJsCCtCiWLOe"
      },
      "source": [
        "Сдайте функции `multiplicative_attention` и `additive_attention` в контест.\n",
        "\n",
        "Не забудьте про импорт `numpy`!"
      ]
    },
    {
      "cell_type": "code",
      "execution_count": null,
      "metadata": {
        "id": "H2KGH_i9WLOi",
        "colab": {
          "base_uri": "https://localhost:8080/",
          "height": 216
        },
        "outputId": "a9bee79e-ef35-42d6-d39b-349eda41f550"
      },
      "outputs": [
        {
          "output_type": "error",
          "ename": "NameError",
          "evalue": "name 'out_dict' is not defined",
          "traceback": [
            "\u001b[0;31m---------------------------------------------------------------------------\u001b[0m",
            "\u001b[0;31mNameError\u001b[0m                                 Traceback (most recent call last)",
            "\u001b[0;32m/tmp/ipython-input-2495810530.py\u001b[0m in \u001b[0;36m<cell line: 0>\u001b[0;34m()\u001b[0m\n\u001b[1;32m      2\u001b[0m \u001b[0;31m# __________start of block__________\u001b[0m\u001b[0;34m\u001b[0m\u001b[0;34m\u001b[0m\u001b[0m\n\u001b[1;32m      3\u001b[0m \u001b[0;34m\u001b[0m\u001b[0m\n\u001b[0;32m----> 4\u001b[0;31m \u001b[0mnp\u001b[0m\u001b[0;34m.\u001b[0m\u001b[0msave\u001b[0m\u001b[0;34m(\u001b[0m\u001b[0;34m\"submission_dict_hw08.npy\"\u001b[0m\u001b[0;34m,\u001b[0m \u001b[0mout_dict\u001b[0m\u001b[0;34m,\u001b[0m \u001b[0mallow_pickle\u001b[0m\u001b[0;34m=\u001b[0m\u001b[0;32mTrue\u001b[0m\u001b[0;34m)\u001b[0m\u001b[0;34m\u001b[0m\u001b[0;34m\u001b[0m\u001b[0m\n\u001b[0m\u001b[1;32m      5\u001b[0m \u001b[0mprint\u001b[0m\u001b[0;34m(\u001b[0m\u001b[0;34m\"File saved to `submission_dict_hw08.npy`\"\u001b[0m\u001b[0;34m)\u001b[0m\u001b[0;34m\u001b[0m\u001b[0;34m\u001b[0m\u001b[0m\n\u001b[1;32m      6\u001b[0m \u001b[0;31m# __________end of block__________\u001b[0m\u001b[0;34m\u001b[0m\u001b[0;34m\u001b[0m\u001b[0m\n",
            "\u001b[0;31mNameError\u001b[0m: name 'out_dict' is not defined"
          ]
        }
      ],
      "source": [
        "# do not change the code in the block below\n",
        "# __________start of block__________\n",
        "\n",
        "np.save(\"submission_dict_hw08.npy\", out_dict, allow_pickle=True)\n",
        "print(\"File saved to `submission_dict_hw08.npy`\")\n",
        "# __________end of block__________"
      ]
    },
    {
      "cell_type": "markdown",
      "metadata": {
        "id": "SjGuVvb7WLOj"
      },
      "source": [
        "На этом задание завершено. Поздравляем!"
      ]
    }
  ],
  "metadata": {
    "colab": {
      "provenance": []
    },
    "kernelspec": {
      "display_name": "Py3 Research",
      "language": "python",
      "name": "py3_research"
    },
    "language_info": {
      "codemirror_mode": {
        "name": "ipython",
        "version": 3
      },
      "file_extension": ".py",
      "mimetype": "text/x-python",
      "name": "python",
      "nbconvert_exporter": "python",
      "pygments_lexer": "ipython3",
      "version": "3.7.7"
    }
  },
  "nbformat": 4,
  "nbformat_minor": 0
}